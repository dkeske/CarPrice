{
 "cells": [
  {
   "cell_type": "code",
   "execution_count": 2,
   "metadata": {
    "collapsed": true
   },
   "outputs": [
    {
     "name": "stdout",
     "output_type": "stream",
     "text": [
      "   Benzin  Dizel  Hecbek  Kabriolet  Kabriolet/Roadster  Karavan  Kupe  \\\n0       0      1       0          0                   0        0     0   \n\n   Limuzina  Metan  Minivan  ...    sid  \\\n0         1      0        0  ...    445   \n\n                                           tag_block tire_params  \\\n0  2.599 €, 2004 god., 169.000 km, Limuzina, Dize...               \n\n                         title trade  \\\n0  Renault Megane 1.9dci 120ks   NaN   \n\n                                                 url userType   wheelSide  \\\n0  http://www.polovniautomobili.com/putnicka-vozi...   dealer  Levi volan   \n\n   year zamena  \n0  2004  False  \n\n[1 rows x 70 columns]\n"
     ]
    }
   ],
   "source": [
    "from pymongo import MongoClient\n",
    "import pandas as pd\n",
    "import numpy as np\n",
    "import matplotlib.pyplot as plt\n",
    "client = MongoClient()\n",
    "db = client.diplomski\n",
    "result = db.cars.find()\n",
    "dict = []\n",
    "for row in result:\n",
    "    dict.append(row)\n",
    "df = pd.DataFrame(data=dict)\n",
    "print df.head(1)\n",
    "conditions = []\n",
    "for cond in df.condition:\n",
    "    conditions += cond\n",
    "# print list(set(conditions))"
   ]
  },
  {
   "cell_type": "code",
   "execution_count": 19,
   "metadata": {},
   "outputs": [
    {
     "name": "stdout",
     "output_type": "stream",
     "text": [
      "<type 'unicode'>\n"
     ]
    }
   ],
   "source": [
    "print type(df.condition.iloc[0][0])"
   ]
  },
  {
   "cell_type": "code",
   "execution_count": 14,
   "metadata": {},
   "outputs": [
    {
     "ename": "TypeError",
     "evalue": "unhashable type: 'list'",
     "traceback": [
      "\u001b[1;31m---------------------------------------------------------------------------\u001b[0m",
      "\u001b[1;31mTypeError\u001b[0m                                 Traceback (most recent call last)",
      "\u001b[1;32m<ipython-input-14-992afcf6f8fe>\u001b[0m in \u001b[0;36m<module>\u001b[1;34m()\u001b[0m\n\u001b[0;32m      1\u001b[0m \u001b[0mcolumns\u001b[0m \u001b[1;33m=\u001b[0m \u001b[0mlist\u001b[0m\u001b[1;33m(\u001b[0m\u001b[0mset\u001b[0m\u001b[1;33m(\u001b[0m\u001b[0mconditions\u001b[0m\u001b[1;33m)\u001b[0m\u001b[1;33m)\u001b[0m\u001b[1;33m\u001b[0m\u001b[0m\n\u001b[1;32m----> 2\u001b[1;33m \u001b[0mdummies\u001b[0m \u001b[1;33m=\u001b[0m \u001b[0mpd\u001b[0m\u001b[1;33m.\u001b[0m\u001b[0mget_dummies\u001b[0m\u001b[1;33m(\u001b[0m\u001b[0mdata\u001b[0m\u001b[1;33m=\u001b[0m\u001b[0mdf\u001b[0m\u001b[1;33m.\u001b[0m\u001b[0mcondition\u001b[0m\u001b[1;33m,\u001b[0m \u001b[0mcolumns\u001b[0m\u001b[1;33m=\u001b[0m\u001b[0mcolumns\u001b[0m\u001b[1;33m,\u001b[0m \u001b[0mdummy_na\u001b[0m\u001b[1;33m=\u001b[0m\u001b[0mTrue\u001b[0m\u001b[1;33m)\u001b[0m\u001b[1;33m\u001b[0m\u001b[0m\n\u001b[0m\u001b[0;32m      3\u001b[0m \u001b[1;32mprint\u001b[0m \u001b[0mdummies\u001b[0m\u001b[1;33m\u001b[0m\u001b[0m\n",
      "\u001b[1;32mC:\\Python27\\lib\\site-packages\\pandas\\core\\reshape.pyc\u001b[0m in \u001b[0;36mget_dummies\u001b[1;34m(data, prefix, prefix_sep, dummy_na, columns, sparse)\u001b[0m\n\u001b[0;32m   1072\u001b[0m     \u001b[1;32melse\u001b[0m\u001b[1;33m:\u001b[0m\u001b[1;33m\u001b[0m\u001b[0m\n\u001b[0;32m   1073\u001b[0m         result = _get_dummies_1d(data, prefix, prefix_sep, dummy_na,\n\u001b[1;32m-> 1074\u001b[1;33m                                  sparse=sparse)\n\u001b[0m\u001b[0;32m   1075\u001b[0m     \u001b[1;32mreturn\u001b[0m \u001b[0mresult\u001b[0m\u001b[1;33m\u001b[0m\u001b[0m\n\u001b[0;32m   1076\u001b[0m \u001b[1;33m\u001b[0m\u001b[0m\n",
      "\u001b[1;32mC:\\Python27\\lib\\site-packages\\pandas\\core\\reshape.pyc\u001b[0m in \u001b[0;36m_get_dummies_1d\u001b[1;34m(data, prefix, prefix_sep, dummy_na, sparse)\u001b[0m\n\u001b[0;32m   1078\u001b[0m \u001b[1;32mdef\u001b[0m \u001b[0m_get_dummies_1d\u001b[0m\u001b[1;33m(\u001b[0m\u001b[0mdata\u001b[0m\u001b[1;33m,\u001b[0m \u001b[0mprefix\u001b[0m\u001b[1;33m,\u001b[0m \u001b[0mprefix_sep\u001b[0m\u001b[1;33m=\u001b[0m\u001b[1;34m'_'\u001b[0m\u001b[1;33m,\u001b[0m \u001b[0mdummy_na\u001b[0m\u001b[1;33m=\u001b[0m\u001b[0mFalse\u001b[0m\u001b[1;33m,\u001b[0m \u001b[0msparse\u001b[0m\u001b[1;33m=\u001b[0m\u001b[0mFalse\u001b[0m\u001b[1;33m)\u001b[0m\u001b[1;33m:\u001b[0m\u001b[1;33m\u001b[0m\u001b[0m\n\u001b[0;32m   1079\u001b[0m     \u001b[1;31m# Series avoids inconsistent NaN handling\u001b[0m\u001b[1;33m\u001b[0m\u001b[1;33m\u001b[0m\u001b[0m\n\u001b[1;32m-> 1080\u001b[1;33m     \u001b[0mcat\u001b[0m \u001b[1;33m=\u001b[0m \u001b[0mCategorical\u001b[0m\u001b[1;33m.\u001b[0m\u001b[0mfrom_array\u001b[0m\u001b[1;33m(\u001b[0m\u001b[0mSeries\u001b[0m\u001b[1;33m(\u001b[0m\u001b[0mdata\u001b[0m\u001b[1;33m)\u001b[0m\u001b[1;33m,\u001b[0m \u001b[0mordered\u001b[0m\u001b[1;33m=\u001b[0m\u001b[0mTrue\u001b[0m\u001b[1;33m)\u001b[0m\u001b[1;33m\u001b[0m\u001b[0m\n\u001b[0m\u001b[0;32m   1081\u001b[0m     \u001b[0mlevels\u001b[0m \u001b[1;33m=\u001b[0m \u001b[0mcat\u001b[0m\u001b[1;33m.\u001b[0m\u001b[0mcategories\u001b[0m\u001b[1;33m\u001b[0m\u001b[0m\n\u001b[0;32m   1082\u001b[0m \u001b[1;33m\u001b[0m\u001b[0m\n",
      "\u001b[1;32mC:\\Python27\\lib\\site-packages\\pandas\\core\\categorical.pyc\u001b[0m in \u001b[0;36mfrom_array\u001b[1;34m(cls, data, **kwargs)\u001b[0m\n\u001b[0;32m    350\u001b[0m             \u001b[0mthe\u001b[0m \u001b[0munique\u001b[0m \u001b[0mvalues\u001b[0m \u001b[0mof\u001b[0m \u001b[1;33m`\u001b[0m\u001b[0mdata\u001b[0m\u001b[1;33m`\u001b[0m\u001b[1;33m.\u001b[0m\u001b[1;33m\u001b[0m\u001b[0m\n\u001b[0;32m    351\u001b[0m         \"\"\"\n\u001b[1;32m--> 352\u001b[1;33m         \u001b[1;32mreturn\u001b[0m \u001b[0mCategorical\u001b[0m\u001b[1;33m(\u001b[0m\u001b[0mdata\u001b[0m\u001b[1;33m,\u001b[0m \u001b[1;33m**\u001b[0m\u001b[0mkwargs\u001b[0m\u001b[1;33m)\u001b[0m\u001b[1;33m\u001b[0m\u001b[0m\n\u001b[0m\u001b[0;32m    353\u001b[0m \u001b[1;33m\u001b[0m\u001b[0m\n\u001b[0;32m    354\u001b[0m     \u001b[1;33m@\u001b[0m\u001b[0mclassmethod\u001b[0m\u001b[1;33m\u001b[0m\u001b[0m\n",
      "\u001b[1;32mC:\\Python27\\lib\\site-packages\\pandas\\core\\categorical.pyc\u001b[0m in \u001b[0;36m__init__\u001b[1;34m(self, values, categories, ordered, name, fastpath, levels)\u001b[0m\n\u001b[0;32m    266\u001b[0m                 \u001b[0mcodes\u001b[0m\u001b[1;33m,\u001b[0m \u001b[0mcategories\u001b[0m \u001b[1;33m=\u001b[0m \u001b[0mfactorize\u001b[0m\u001b[1;33m(\u001b[0m\u001b[0mvalues\u001b[0m\u001b[1;33m,\u001b[0m \u001b[0msort\u001b[0m\u001b[1;33m=\u001b[0m\u001b[0mTrue\u001b[0m\u001b[1;33m)\u001b[0m\u001b[1;33m\u001b[0m\u001b[0m\n\u001b[0;32m    267\u001b[0m             \u001b[1;32mexcept\u001b[0m \u001b[0mTypeError\u001b[0m\u001b[1;33m:\u001b[0m\u001b[1;33m\u001b[0m\u001b[0m\n\u001b[1;32m--> 268\u001b[1;33m                 \u001b[0mcodes\u001b[0m\u001b[1;33m,\u001b[0m \u001b[0mcategories\u001b[0m \u001b[1;33m=\u001b[0m \u001b[0mfactorize\u001b[0m\u001b[1;33m(\u001b[0m\u001b[0mvalues\u001b[0m\u001b[1;33m,\u001b[0m \u001b[0msort\u001b[0m\u001b[1;33m=\u001b[0m\u001b[0mFalse\u001b[0m\u001b[1;33m)\u001b[0m\u001b[1;33m\u001b[0m\u001b[0m\n\u001b[0m\u001b[0;32m    269\u001b[0m                 \u001b[1;32mif\u001b[0m \u001b[0mordered\u001b[0m\u001b[1;33m:\u001b[0m\u001b[1;33m\u001b[0m\u001b[0m\n\u001b[0;32m    270\u001b[0m                     \u001b[1;31m# raise, as we don't have a sortable data structure and so the user should\u001b[0m\u001b[1;33m\u001b[0m\u001b[1;33m\u001b[0m\u001b[0m\n",
      "\u001b[1;32mC:\\Python27\\lib\\site-packages\\pandas\\core\\algorithms.pyc\u001b[0m in \u001b[0;36mfactorize\u001b[1;34m(values, sort, order, na_sentinel, size_hint)\u001b[0m\n\u001b[0;32m    188\u001b[0m     \u001b[0mtable\u001b[0m \u001b[1;33m=\u001b[0m \u001b[0mhash_klass\u001b[0m\u001b[1;33m(\u001b[0m\u001b[0msize_hint\u001b[0m \u001b[1;32mor\u001b[0m \u001b[0mlen\u001b[0m\u001b[1;33m(\u001b[0m\u001b[0mvals\u001b[0m\u001b[1;33m)\u001b[0m\u001b[1;33m)\u001b[0m\u001b[1;33m\u001b[0m\u001b[0m\n\u001b[0;32m    189\u001b[0m     \u001b[0muniques\u001b[0m \u001b[1;33m=\u001b[0m \u001b[0mvec_klass\u001b[0m\u001b[1;33m(\u001b[0m\u001b[1;33m)\u001b[0m\u001b[1;33m\u001b[0m\u001b[0m\n\u001b[1;32m--> 190\u001b[1;33m     \u001b[0mlabels\u001b[0m \u001b[1;33m=\u001b[0m \u001b[0mtable\u001b[0m\u001b[1;33m.\u001b[0m\u001b[0mget_labels\u001b[0m\u001b[1;33m(\u001b[0m\u001b[0mvals\u001b[0m\u001b[1;33m,\u001b[0m \u001b[0muniques\u001b[0m\u001b[1;33m,\u001b[0m \u001b[1;36m0\u001b[0m\u001b[1;33m,\u001b[0m \u001b[0mna_sentinel\u001b[0m\u001b[1;33m)\u001b[0m\u001b[1;33m\u001b[0m\u001b[0m\n\u001b[0m\u001b[0;32m    191\u001b[0m \u001b[1;33m\u001b[0m\u001b[0m\n\u001b[0;32m    192\u001b[0m     \u001b[0mlabels\u001b[0m \u001b[1;33m=\u001b[0m \u001b[0mcom\u001b[0m\u001b[1;33m.\u001b[0m\u001b[0m_ensure_platform_int\u001b[0m\u001b[1;33m(\u001b[0m\u001b[0mlabels\u001b[0m\u001b[1;33m)\u001b[0m\u001b[1;33m\u001b[0m\u001b[0m\n",
      "\u001b[1;32mpandas\\hashtable.pyx\u001b[0m in \u001b[0;36mpandas.hashtable.PyObjectHashTable.get_labels (pandas\\hashtable.c:13932)\u001b[1;34m()\u001b[0m\n",
      "\u001b[1;31mTypeError\u001b[0m: unhashable type: 'list'"
     ],
     "output_type": "error"
    }
   ],
   "source": [
    "columns = list(set(conditions))\n",
    "\n",
    "df.condition.apply()"
   ]
  },
  {
   "cell_type": "code",
   "execution_count": 3,
   "metadata": {},
   "outputs": [
    {
     "name": "stdout",
     "output_type": "stream",
     "text": [
      "      Hecbek  Kabriolet  Karavan  Kupe  Limuzina  Minivan\n0          0          0        0     0         1        0\n1          0          0        1     0         0        0\n2          0          0        1     0         0        0\n3          0          0        1     0         0        0\n4          0          0        1     0         0        0\n5          0          0        0     0         1        0\n6          0          0        1     0         0        0\n7          0          0        1     0         0        0\n8          0          0        0     0         1        0\n9          0          0        0     0         1        0\n10         0          0        1     0         0        0\n11         0          0        1     0         0        0\n12         0          0        1     0         0        0\n13         0          0        0     0         1        0\n14         0          0        0     0         1        0\n15         1          0        0     0         0        0\n16         1          0        0     0         0        0\n17         0          0        1     0         0        0\n18         0          0        1     0         0        0\n19         1          0        0     0         0        0\n20         1          0        0     0         0        0\n21         0          0        1     0         0        0\n22         1          0        0     0         0        0\n23         0          1        0     0         0        0\n24         1          0        0     0         0        0\n25         0          0        0     0         1        0\n26         1          0        0     0         0        0\n27         1          0        0     0         0        0\n28         1          0        0     0         0        0\n29         0          0        1     0         0        0\n...      ...        ...      ...   ...       ...      ...\n1220       0          0        1     0         0        0\n1221       0          0        0     1         0        0\n1222       0          0        0     0         1        0\n1223       1          0        0     0         0        0\n1224       0          0        0     0         1        0\n1225       0          0        1     0         0        0\n1226       0          0        1     0         0        0\n1227       1          0        0     0         0        0\n1228       1          0        0     0         0        0\n1229       1          0        0     0         0        0\n1230       0          0        0     0         1        0\n1231       1          0        0     0         0        0\n1232       0          0        0     1         0        0\n1233       0          0        1     0         0        0\n1234       0          0        1     0         0        0\n1235       1          0        0     0         0        0\n1236       0          0        0     0         1        0\n1237       0          0        0     0         1        0\n1238       1          0        0     0         0        0\n1239       0          0        0     0         1        0\n1240       0          0        0     1         0        0\n1241       0          0        0     0         1        0\n1242       1          0        0     0         0        0\n1243       0          0        1     0         0        0\n1244       0          0        1     0         0        0\n1245       0          0        1     0         0        0\n1246       0          0        0     0         1        0\n1247       0          0        1     0         0        0\n1248       0          0        0     0         1        0\n1249       0          0        1     0         0        0\n\n[1250 rows x 6 columns]\n"
     ]
    }
   ],
   "source": [
    "# coding=utf-8\n",
    "dummy = pd.get_dummies(data=df.chassis)\n",
    "dummy = dummy.rename(columns={u'He\\u010dbek': u'Hecbek'})\n",
    "dummy = dummy.rename(columns={u'Kabriolet/Roadster': u'Kabriolet'})\n",
    "dummy = dummy.rename(columns={u'Monovolumen (MiniVan)': u'Minivan'})\n",
    "# db.Doc.update({\"_id\": b[\"_id\"]}, {\"$set\": {\"geolocCountry\": myGeolocCountry}})\n",
    "for i in range(0, dummy.shape[0]):\n",
    "    db.cars.update_one({\"_id\": df.iloc[i][\"_id\"]}, {\"$set\": dummy.iloc[i].to_dict()})\n",
    "\n",
    "print dummy"
   ]
  },
  {
   "cell_type": "code",
   "execution_count": 7,
   "metadata": {},
   "outputs": [
    {
     "name": "stdout",
     "output_type": "stream",
     "text": [
      "      Benzin  TNG  Dizel  Metan\n0          0    0      1      0\n1          0    0      1      0\n2          0    0      1      0\n3          0    0      1      0\n4          1    0      0      0\n5          0    0      1      0\n6          0    0      1      0\n7          0    0      1      0\n8          0    0      1      0\n9          0    0      1      0\n10         0    0      1      0\n11         0    0      1      0\n12         1    0      0      0\n13         1    0      0      0\n14         1    0      0      0\n15         1    0      0      0\n16         0    0      1      0\n17         0    0      1      0\n18         0    0      1      0\n19         0    0      1      0\n20         0    0      1      0\n21         0    0      1      0\n22         1    0      0      0\n23         0    0      1      0\n24         0    0      1      0\n25         1    0      0      0\n26         0    0      1      0\n27         0    0      1      0\n28         1    0      0      0\n29         0    0      1      0\n...      ...  ...    ...    ...\n1220       0    0      1      0\n1221       0    0      1      0\n1222       0    0      1      0\n1223       0    0      1      0\n1224       1    0      0      0\n1225       1    0      0      0\n1226       0    0      1      0\n1227       0    0      1      0\n1228       0    0      1      0\n1229       0    0      1      0\n1230       0    0      1      0\n1231       1    0      0      0\n1232       0    0      1      0\n1233       0    0      1      0\n1234       0    0      1      0\n1235       0    0      1      0\n1236       0    0      1      0\n1237       0    0      1      0\n1238       0    0      1      0\n1239       0    0      1      0\n1240       0    1      0      0\n1241       0    0      1      0\n1242       0    0      1      0\n1243       0    0      1      0\n1244       0    1      0      0\n1245       1    0      0      0\n1246       1    0      0      0\n1247       0    0      1      0\n1248       0    0      1      0\n1249       0    0      1      0\n\n[1250 rows x 4 columns]\n"
     ]
    }
   ],
   "source": [
    "# coding=utf-8\n",
    "dummy_fuel = pd.get_dummies(data=df.fuelType)\n",
    "dummy_fuel = dummy_fuel.rename(columns={u'Benzin + Gas (TNG)': u'TNG'})\n",
    "dummy_fuel = dummy_fuel.rename(columns={u'Metan CNG': u'Metan'})\n",
    "# dummy_fuel = dummy_fuel.rename(columns={u'Monovolumen (MiniVan)': u'Minivan'})\n",
    "# # db.Doc.update({\"_id\": b[\"_id\"]}, {\"$set\": {\"geolocCountry\": myGeolocCountry}})\n",
    "for i in range(0, dummy_fuel.shape[0]):\n",
    "    db.cars.update_one({\"_id\": df.iloc[i][\"_id\"]}, {\"$set\": dummy_fuel.iloc[i].to_dict()})\n",
    "# \n",
    "print dummy_fuel"
   ]
  },
  {
   "cell_type": "code",
   "execution_count": 81,
   "metadata": {},
   "outputs": [
    {
     "name": "stdout",
     "output_type": "stream",
     "text": [
      "[u'Garancija' u'Gara\\u017eiran' u'Prvi vlasnik' u'Rezervni klju\\u010d'\n u'Servisna knjiga']\n     0   1   2   3\n0    0   1   3 NaN\n1    0   1   4 NaN\n2    0   4   3 NaN\n3    0   1   4   3\n4    0   3 NaN NaN\n5  NaN NaN NaN NaN\n6    4   3 NaN NaN\n7    3 NaN NaN NaN\n8    0   3 NaN NaN\n9    1   4   3 NaN\n10   1   4   3 NaN\n11   0 NaN NaN NaN\n12   0   1   4   3\n13   2   0   1   4\n14 NaN NaN NaN NaN\n15   0 NaN NaN NaN\n16   0   1 NaN NaN\n17 NaN NaN NaN NaN\n18 NaN NaN NaN NaN\n19 NaN NaN NaN NaN\n20 NaN NaN NaN NaN\n21 NaN NaN NaN NaN\n22   0   4   3 NaN\n23   2   0   4   3\n24 NaN NaN NaN NaN\n"
     ]
    },
    {
     "ename": "ValueError",
     "evalue": "X needs to contain only non-negative integers.",
     "traceback": [
      "\u001b[1;31m---------------------------------------------------------------------------\u001b[0m",
      "\u001b[1;31mValueError\u001b[0m                                Traceback (most recent call last)",
      "\u001b[1;32m<ipython-input-81-ec9d5b256552>\u001b[0m in \u001b[0;36m<module>\u001b[1;34m()\u001b[0m\n\u001b[0;32m     11\u001b[0m \u001b[1;32mprint\u001b[0m \u001b[0mframe\u001b[0m\u001b[1;33m\u001b[0m\u001b[0m\n\u001b[0;32m     12\u001b[0m \u001b[0menc\u001b[0m \u001b[1;33m=\u001b[0m \u001b[0mOneHotEncoder\u001b[0m\u001b[1;33m(\u001b[0m\u001b[1;33m)\u001b[0m\u001b[1;33m\u001b[0m\u001b[0m\n\u001b[1;32m---> 13\u001b[1;33m \u001b[0menc\u001b[0m\u001b[1;33m.\u001b[0m\u001b[0mfit\u001b[0m\u001b[1;33m(\u001b[0m\u001b[0mframe\u001b[0m\u001b[1;33m)\u001b[0m\u001b[1;33m\u001b[0m\u001b[0m\n\u001b[0m",
      "\u001b[1;32mC:\\Python27\\lib\\site-packages\\sklearn\\preprocessing\\data.pyc\u001b[0m in \u001b[0;36mfit\u001b[1;34m(self, X, y)\u001b[0m\n\u001b[0;32m   1756\u001b[0m         \u001b[0mself\u001b[0m\u001b[1;33m\u001b[0m\u001b[0m\n\u001b[0;32m   1757\u001b[0m         \"\"\"\n\u001b[1;32m-> 1758\u001b[1;33m         \u001b[0mself\u001b[0m\u001b[1;33m.\u001b[0m\u001b[0mfit_transform\u001b[0m\u001b[1;33m(\u001b[0m\u001b[0mX\u001b[0m\u001b[1;33m)\u001b[0m\u001b[1;33m\u001b[0m\u001b[0m\n\u001b[0m\u001b[0;32m   1759\u001b[0m         \u001b[1;32mreturn\u001b[0m \u001b[0mself\u001b[0m\u001b[1;33m\u001b[0m\u001b[0m\n\u001b[0;32m   1760\u001b[0m \u001b[1;33m\u001b[0m\u001b[0m\n",
      "\u001b[1;32mC:\\Python27\\lib\\site-packages\\sklearn\\preprocessing\\data.pyc\u001b[0m in \u001b[0;36mfit_transform\u001b[1;34m(self, X, y)\u001b[0m\n\u001b[0;32m   1812\u001b[0m         \"\"\"\n\u001b[0;32m   1813\u001b[0m         return _transform_selected(X, self._fit_transform,\n\u001b[1;32m-> 1814\u001b[1;33m                                    self.categorical_features, copy=True)\n\u001b[0m\u001b[0;32m   1815\u001b[0m \u001b[1;33m\u001b[0m\u001b[0m\n\u001b[0;32m   1816\u001b[0m     \u001b[1;32mdef\u001b[0m \u001b[0m_transform\u001b[0m\u001b[1;33m(\u001b[0m\u001b[0mself\u001b[0m\u001b[1;33m,\u001b[0m \u001b[0mX\u001b[0m\u001b[1;33m)\u001b[0m\u001b[1;33m:\u001b[0m\u001b[1;33m\u001b[0m\u001b[0m\n",
      "\u001b[1;32mC:\\Python27\\lib\\site-packages\\sklearn\\preprocessing\\data.pyc\u001b[0m in \u001b[0;36m_transform_selected\u001b[1;34m(X, transform, selected, copy)\u001b[0m\n\u001b[0;32m   1623\u001b[0m     \"\"\"\n\u001b[0;32m   1624\u001b[0m     \u001b[1;32mif\u001b[0m \u001b[0misinstance\u001b[0m\u001b[1;33m(\u001b[0m\u001b[0mselected\u001b[0m\u001b[1;33m,\u001b[0m \u001b[0msix\u001b[0m\u001b[1;33m.\u001b[0m\u001b[0mstring_types\u001b[0m\u001b[1;33m)\u001b[0m \u001b[1;32mand\u001b[0m \u001b[0mselected\u001b[0m \u001b[1;33m==\u001b[0m \u001b[1;34m\"all\"\u001b[0m\u001b[1;33m:\u001b[0m\u001b[1;33m\u001b[0m\u001b[0m\n\u001b[1;32m-> 1625\u001b[1;33m         \u001b[1;32mreturn\u001b[0m \u001b[0mtransform\u001b[0m\u001b[1;33m(\u001b[0m\u001b[0mX\u001b[0m\u001b[1;33m)\u001b[0m\u001b[1;33m\u001b[0m\u001b[0m\n\u001b[0m\u001b[0;32m   1626\u001b[0m \u001b[1;33m\u001b[0m\u001b[0m\n\u001b[0;32m   1627\u001b[0m     \u001b[0mX\u001b[0m \u001b[1;33m=\u001b[0m \u001b[0mcheck_array\u001b[0m\u001b[1;33m(\u001b[0m\u001b[0mX\u001b[0m\u001b[1;33m,\u001b[0m \u001b[0maccept_sparse\u001b[0m\u001b[1;33m=\u001b[0m\u001b[1;34m'csc'\u001b[0m\u001b[1;33m,\u001b[0m \u001b[0mcopy\u001b[0m\u001b[1;33m=\u001b[0m\u001b[0mcopy\u001b[0m\u001b[1;33m,\u001b[0m \u001b[0mdtype\u001b[0m\u001b[1;33m=\u001b[0m\u001b[0mFLOAT_DTYPES\u001b[0m\u001b[1;33m)\u001b[0m\u001b[1;33m\u001b[0m\u001b[0m\n",
      "\u001b[1;32mC:\\Python27\\lib\\site-packages\\sklearn\\preprocessing\\data.pyc\u001b[0m in \u001b[0;36m_fit_transform\u001b[1;34m(self, X)\u001b[0m\n\u001b[0;32m   1763\u001b[0m         \u001b[0mX\u001b[0m \u001b[1;33m=\u001b[0m \u001b[0mcheck_array\u001b[0m\u001b[1;33m(\u001b[0m\u001b[0mX\u001b[0m\u001b[1;33m,\u001b[0m \u001b[0mdtype\u001b[0m\u001b[1;33m=\u001b[0m\u001b[0mnp\u001b[0m\u001b[1;33m.\u001b[0m\u001b[0mint\u001b[0m\u001b[1;33m)\u001b[0m\u001b[1;33m\u001b[0m\u001b[0m\n\u001b[0;32m   1764\u001b[0m         \u001b[1;32mif\u001b[0m \u001b[0mnp\u001b[0m\u001b[1;33m.\u001b[0m\u001b[0many\u001b[0m\u001b[1;33m(\u001b[0m\u001b[0mX\u001b[0m \u001b[1;33m<\u001b[0m \u001b[1;36m0\u001b[0m\u001b[1;33m)\u001b[0m\u001b[1;33m:\u001b[0m\u001b[1;33m\u001b[0m\u001b[0m\n\u001b[1;32m-> 1765\u001b[1;33m             \u001b[1;32mraise\u001b[0m \u001b[0mValueError\u001b[0m\u001b[1;33m(\u001b[0m\u001b[1;34m\"X needs to contain only non-negative integers.\"\u001b[0m\u001b[1;33m)\u001b[0m\u001b[1;33m\u001b[0m\u001b[0m\n\u001b[0m\u001b[0;32m   1766\u001b[0m         \u001b[0mn_samples\u001b[0m\u001b[1;33m,\u001b[0m \u001b[0mn_features\u001b[0m \u001b[1;33m=\u001b[0m \u001b[0mX\u001b[0m\u001b[1;33m.\u001b[0m\u001b[0mshape\u001b[0m\u001b[1;33m\u001b[0m\u001b[0m\n\u001b[0;32m   1767\u001b[0m         \u001b[1;32mif\u001b[0m \u001b[0mself\u001b[0m\u001b[1;33m.\u001b[0m\u001b[0mn_values\u001b[0m \u001b[1;33m==\u001b[0m \u001b[1;34m'auto'\u001b[0m\u001b[1;33m:\u001b[0m\u001b[1;33m\u001b[0m\u001b[0m\n",
      "\u001b[1;31mValueError\u001b[0m: X needs to contain only non-negative integers."
     ],
     "output_type": "error"
    }
   ],
   "source": [
    "from sklearn.preprocessing import LabelEncoder, OneHotEncoder\n",
    "le = LabelEncoder()\n",
    "y = [u'Garancija', u'Prvi vlasnik', u'Rezervni klju\\u010d', u'Servisna knjiga', u'Gara\\u017eiran']\n",
    "\n",
    "le.fit(y)\n",
    "print le.classes_\n",
    "conditions = []\n",
    "for cond in df.condition:\n",
    "    conditions.append(le.transform(cond))\n",
    "frame = pd.DataFrame(data=conditions)\n",
    "print frame\n",
    "enc = OneHotEncoder()\n",
    "enc.fit(frame)"
   ]
  },
  {
   "cell_type": "code",
   "execution_count": 61,
   "metadata": {},
   "outputs": [
    {
     "name": "stdout",
     "output_type": "stream",
     "text": [
      "   Garancija  Garažiran  Rezervni ključ\n0          1          0               0\n1          0          1               0\n2          0          0               1\n"
     ]
    }
   ],
   "source": [
    "# print df.condition\n",
    "print pd.get_dummies(data=df.condition[0])"
   ]
  },
  {
   "cell_type": "code",
   "execution_count": 57,
   "metadata": {},
   "outputs": [
    {
     "name": "stdout",
     "output_type": "stream",
     "text": [
      "0       Manuelna klima\n1       Manuelna klima\n2       Manuelna klima\n3     Automatska klima\n4     Automatska klima\n5     Automatska klima\n6     Automatska klima\n7       Manuelna klima\n8       Manuelna klima\n9       Manuelna klima\n10    Automatska klima\n11      Manuelna klima\n12    Automatska klima\n13      Manuelna klima\n14      Manuelna klima\n15      Manuelna klima\n16    Automatska klima\n17    Automatska klima\n18      Manuelna klima\n19      Manuelna klima\n20    Automatska klima\n21      Manuelna klima\n22    Automatska klima\n23      Manuelna klima\n24      Manuelna klima\nName: airCondition, dtype: object\n    Automatska klima  Manuelna klima\n0                  0               1\n1                  0               1\n2                  0               1\n3                  1               0\n4                  1               0\n5                  1               0\n6                  1               0\n7                  0               1\n8                  0               1\n9                  0               1\n10                 1               0\n11                 0               1\n12                 1               0\n13                 0               1\n14                 0               1\n15                 0               1\n16                 1               0\n17                 1               0\n18                 0               1\n19                 0               1\n20                 1               0\n21                 0               1\n22                 1               0\n23                 0               1\n24                 0               1\n"
     ]
    }
   ],
   "source": [
    "print df.airCondition\n",
    "print pd.get_dummies(data=df.airCondition)"
   ]
  },
  {
   "cell_type": "code",
   "execution_count": 23,
   "metadata": {},
   "outputs": [
    {
     "data": {
      "text/plain": [
       "_id                          object\nairCondition                 object\nbrandID                      object\nbrandName                    object\ncategory                     object\nchassis                      object\ncolor                        object\ncondition                    object\ncontactData                  object\ncredit                      float64\ncredit_deposit               object\ncredit_installment           object\ncredit_installment_count     object\ndamaged                      object\ndescription                  object\ndoornum                      object\nemissionClass                object\nengineVolume                  int64\nequipment                    object\nfeatured                       bool\nfixed                          bool\nfuelType                     object\ngearBox                      object\ninteriorColor                object\ninteriorMaterial             object\nlayout                       object\nlink_type                    object\nlogo                         object\nmarking                      object\nmileage                       int64\nmodelID                      object\nmodelName                    object\nnew                            bool\norigin                       object\nownerId                      object\npower                         int64\nprice                         int64\nregistration                 object\nregistration_expense         object\nrenewDate                    object\nsafety                       object\nseatnum                      object\nshowLogo                       bool\nsid                          object\ntag_block                    object\ntire_params                  object\ntitle                        object\ntrade                        object\nurl                          object\nuserType                     object\nwheelSide                    object\nyear                          int64\nzamena                         bool\ndtype: object"
      ]
     },
     "execution_count": 23,
     "metadata": {},
     "output_type": "execute_result"
    }
   ],
   "source": [
    "df.dtypes"
   ]
  }
 ],
 "metadata": {
  "kernelspec": {
   "display_name": "Python 2",
   "language": "python",
   "name": "python2"
  },
  "language_info": {
   "codemirror_mode": {
    "name": "ipython",
    "version": 2.0
   },
   "file_extension": ".py",
   "mimetype": "text/x-python",
   "name": "python",
   "nbconvert_exporter": "python",
   "pygments_lexer": "ipython2",
   "version": "2.7.6"
  }
 },
 "nbformat": 4,
 "nbformat_minor": 0
}